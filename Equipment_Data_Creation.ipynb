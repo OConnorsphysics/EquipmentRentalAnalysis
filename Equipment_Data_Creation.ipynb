{
  "nbformat": 4,
  "nbformat_minor": 0,
  "metadata": {
    "colab": {
      "name": "Equipment_Data_Creation.ipynb",
      "provenance": [],
      "collapsed_sections": [],
      "authorship_tag": "ABX9TyN/mhVvlwjcvXiJSnvOPjmB",
      "include_colab_link": true
    },
    "kernelspec": {
      "name": "python3",
      "display_name": "Python 3"
    },
    "language_info": {
      "name": "python"
    }
  },
  "cells": [
    {
      "cell_type": "markdown",
      "metadata": {
        "id": "view-in-github",
        "colab_type": "text"
      },
      "source": [
        "<a href=\"https://colab.research.google.com/github/OConnorsphysics/EquipmentRentalAnalysis/blob/main/Equipment_Data_Creation.ipynb\" target=\"_parent\"><img src=\"https://colab.research.google.com/assets/colab-badge.svg\" alt=\"Open In Colab\"/></a>"
      ]
    },
    {
      "cell_type": "markdown",
      "source": [
        "This notebook will be used to generate a fake dataset of a national equipment rental company. This data will then be used to build visualizations that a data analyst working for the company may send to managers or shareholders. "
      ],
      "metadata": {
        "id": "CcRmD875fVRC"
      }
    },
    {
      "cell_type": "code",
      "execution_count": 79,
      "metadata": {
        "id": "V-4Gt5-Ye4cW"
      },
      "outputs": [],
      "source": [
        "import pandas as pd\n",
        "import numpy as np\n",
        "import matplotlib.pyplot as plt\n",
        "import seaborn as sns\n",
        "import random\n",
        "from random import randrange, randint\n",
        "import datetime"
      ]
    },
    {
      "cell_type": "code",
      "source": [
        "def random_date():\n",
        "  start_date = datetime.date(2015, 1, 1)\n",
        "  end_date = datetime.date(2021, 12, 31)\n",
        "\n",
        "  time_between_dates = end_date - start_date\n",
        "  days_between_dates = time_between_dates.days\n",
        "  random_number_of_days = random.randrange(days_between_dates)\n",
        "  random_date = start_date + datetime.timedelta(days=random_number_of_days)\n",
        "  return(random_date)"
      ],
      "metadata": {
        "id": "piam0JZsl6sM"
      },
      "execution_count": 80,
      "outputs": []
    },
    {
      "cell_type": "code",
      "source": [
        "#list of all equipment types\n",
        "equipment_list = ['10ftscissorlift', '12ftscissorlift', '16ftscissorlift', '30ftscissorlift', '34ftboomlift', '45ftboomlift', '40smoothroller', '66padroller',\\\n",
        "                  '84smoothroller', 'jumpingjack', 'platecompactor', 'revplatecompactor', 'trenchroller', '2tonexcavator', '1tonexcavator', '5tonexcavator', \\\n",
        "                  '10fteasyfence', '10ftcrowdfence', '10kwgenerator', '100kwgenerator', '3000wgenerator', '5000lbforklift', '19fttelehandler', \\\n",
        "                  '40fttelehandler', 'vortexfan', 'pedestalfan', '1000psiwasher', 'messageboard', 'finishnailer', 'roofnailer', 'impactwrench', 'hardwoodnailer', \\\n",
        "                  '17lbairbreaker', '30lbairbreaker', 'beltsander', 'draincleaner', '8drumsander', 'grinder', 'hammerdrill', 'jigsaw', 'recipsaw', 'circularsaw',\\\n",
        "                  'chainsaw', 'lawnroller', 'hedgetrimmer']"
      ],
      "metadata": {
        "id": "0tbs1z3epM4N"
      },
      "execution_count": 87,
      "outputs": []
    },
    {
      "cell_type": "code",
      "source": [
        "branch_list = ['Calgary', 'Edmonton', 'Vancouver', 'Toronto', 'Kitchener', 'Ottawa East', 'Ottawa Downtown', 'Barrie', \\\n",
        "               'Mississauga', 'Bolton', 'Bracebridge', 'Oshawa', 'Ottawa Nepean', 'St-Laurent', 'Anjou', 'Surrey', 'Chilliwack', 'Langley', 'Lethbridge', \\\n",
        "               'Medicine Hat', 'Taber', 'Leduc', 'Saint John', 'Dartmouth', 'Brossard', 'Maple Ridge']"
      ],
      "metadata": {
        "id": "f1BVjRbcqFnO"
      },
      "execution_count": 88,
      "outputs": []
    },
    {
      "cell_type": "code",
      "source": [
        "customer_list = ['Contractor', 'Individual', 'Staff']"
      ],
      "metadata": {
        "id": "fkqOl0Q1QMN0"
      },
      "execution_count": 89,
      "outputs": []
    },
    {
      "cell_type": "code",
      "source": [
        "machine_rates = {\n",
        "    '10ftscissorlift': 200, '12ftscissorlift': 250, '16ftscissorlift': 300, '30ftscissorlift': 400, '34ftboomlift': 400,\n",
        "    '45ftboomlift': 450, '40smoothroller': 500, '66padroller': 700,'84smoothroller': 850,'jumpingjack': 80,\n",
        "    'platecompactor': 200,'revplatecompactor': 225,'trenchroller': 400,'2tonexcavator': 700,'1tonexcavator': 900,\n",
        "    '5tonexcavator': 1300,'10fteasyfence': 25,'10ftcrowdfence': 25,'10kwgenerator': 500,'100kwgenerator': 900,\n",
        "    '3000wgenerator': 200,'5000lbforklift': 450,'19fttelehandler': 600,'40fttelehandler': 750,'vortexfan': 50,\n",
        "    'pedestalfan': 30,'1000psiwasher': 75,'messageboard': 200,'finishnailer': 40,'roofnailer':40, \n",
        "    'impactwrench':40, 'hardwoodnailer':50, '17lbairbreaker':60, '30lbairbreaker':70, 'beltsander':30, \n",
        "    'draincleaner':15, '8drumsander':75, 'grinder':30, 'hammerdrill':30, 'jigsaw':25, \n",
        "    'recipsaw':30, 'circularsaw':30, 'chainsaw':50, 'lawnroller':20, 'hedgetrimmer':45\n",
        "}"
      ],
      "metadata": {
        "id": "leEC3u9bo_HR"
      },
      "execution_count": 90,
      "outputs": []
    },
    {
      "cell_type": "markdown",
      "source": [
        "Below I am going to randomly generate rental transaction data with different weights for differernt braches. This copy and pasted method should be made into a function if I want to use it more. "
      ],
      "metadata": {
        "id": "AY4BphU_eczK"
      }
    },
    {
      "cell_type": "code",
      "source": [
        "data =[]"
      ],
      "metadata": {
        "id": "AOU_kbjECd4Q"
      },
      "execution_count": 147,
      "outputs": []
    },
    {
      "cell_type": "code",
      "source": [
        "# a function to generate the random rows of data given regions of each table, customer weights is a 3 int list (Ex. [50,10,1]), branch (0-25), equipment(0-44)\n",
        "def data_generator(rows, eq_lower, eq_upper, branch_lower, branch_upper, customer_weights, days_upper, damaged_upper):\n",
        "  data = []\n",
        "  for i in range(rows):\n",
        "    equipment = random.choice(equipment_list[eq_lower:eq_upper])\n",
        "    branch = random.choice(branch_list[branch_lower:branch_upper])\n",
        "    customer = random.choices(customer_list, weights=customer_weights)\n",
        "    data.append([random_date(), equipment, machine_rates[equipment], randint(1,days_upper), branch, random.choices([True, False], weights=(1,damaged_upper)), customer])\n",
        "  return data"
      ],
      "metadata": {
        "id": "Gu92-9AFtCUP"
      },
      "execution_count": 148,
      "outputs": []
    },
    {
      "cell_type": "markdown",
      "source": [
        "I can run this cell multiple times with varying inputs to create a diverse dataset."
      ],
      "metadata": {
        "id": "m8A_LdTzEOE_"
      }
    },
    {
      "cell_type": "code",
      "source": [
        "#rows, eq_lower, eq_upper, branch_lower, branch_upper, customer_weights, days_upper, damaged_upper\n",
        "data = data  + data_generator(5000, 30, 44, 15, 25, [35,5,1], 6, 25)"
      ],
      "metadata": {
        "id": "42dA9eDRCJrZ"
      },
      "execution_count": 175,
      "outputs": []
    },
    {
      "cell_type": "code",
      "source": [
        "df_rentals= pd.DataFrame(data, columns = ['Date', 'Equipment_Type', 'Daily_Rate', 'Num_Days', 'Branch', 'Damaged', 'Customer_Type'])"
      ],
      "metadata": {
        "id": "mIVXsnIrT5UH"
      },
      "execution_count": 176,
      "outputs": []
    },
    {
      "cell_type": "code",
      "source": [
        "df_rentals.head()"
      ],
      "metadata": {
        "colab": {
          "base_uri": "https://localhost:8080/",
          "height": 206
        },
        "id": "fjlGoxUnRYbF",
        "outputId": "9ed442ae-d10f-4c59-d865-456e034c178a"
      },
      "execution_count": 169,
      "outputs": [
        {
          "output_type": "execute_result",
          "data": {
            "text/plain": [
              "         Date  Equipment_Type  Daily_Rate  Num_Days           Branch  Damaged  \\\n",
              "0  2020-01-04    trenchroller         400        13        Kitchener  [False]   \n",
              "1  2021-01-21    trenchroller         400         4  Ottawa Downtown  [False]   \n",
              "2  2017-11-12    trenchroller         400        33  Ottawa Downtown  [False]   \n",
              "3  2017-06-23   1tonexcavator         900        23  Ottawa Downtown  [False]   \n",
              "4  2021-05-10  platecompactor         200        22  Ottawa Downtown  [False]   \n",
              "\n",
              "  Customer_Type  \n",
              "0  [Contractor]  \n",
              "1  [Individual]  \n",
              "2  [Contractor]  \n",
              "3  [Individual]  \n",
              "4  [Contractor]  "
            ],
            "text/html": [
              "\n",
              "  <div id=\"df-4ba44c87-5b75-4600-bad5-38d0769b93c4\">\n",
              "    <div class=\"colab-df-container\">\n",
              "      <div>\n",
              "<style scoped>\n",
              "    .dataframe tbody tr th:only-of-type {\n",
              "        vertical-align: middle;\n",
              "    }\n",
              "\n",
              "    .dataframe tbody tr th {\n",
              "        vertical-align: top;\n",
              "    }\n",
              "\n",
              "    .dataframe thead th {\n",
              "        text-align: right;\n",
              "    }\n",
              "</style>\n",
              "<table border=\"1\" class=\"dataframe\">\n",
              "  <thead>\n",
              "    <tr style=\"text-align: right;\">\n",
              "      <th></th>\n",
              "      <th>Date</th>\n",
              "      <th>Equipment_Type</th>\n",
              "      <th>Daily_Rate</th>\n",
              "      <th>Num_Days</th>\n",
              "      <th>Branch</th>\n",
              "      <th>Damaged</th>\n",
              "      <th>Customer_Type</th>\n",
              "    </tr>\n",
              "  </thead>\n",
              "  <tbody>\n",
              "    <tr>\n",
              "      <th>0</th>\n",
              "      <td>2020-01-04</td>\n",
              "      <td>trenchroller</td>\n",
              "      <td>400</td>\n",
              "      <td>13</td>\n",
              "      <td>Kitchener</td>\n",
              "      <td>[False]</td>\n",
              "      <td>[Contractor]</td>\n",
              "    </tr>\n",
              "    <tr>\n",
              "      <th>1</th>\n",
              "      <td>2021-01-21</td>\n",
              "      <td>trenchroller</td>\n",
              "      <td>400</td>\n",
              "      <td>4</td>\n",
              "      <td>Ottawa Downtown</td>\n",
              "      <td>[False]</td>\n",
              "      <td>[Individual]</td>\n",
              "    </tr>\n",
              "    <tr>\n",
              "      <th>2</th>\n",
              "      <td>2017-11-12</td>\n",
              "      <td>trenchroller</td>\n",
              "      <td>400</td>\n",
              "      <td>33</td>\n",
              "      <td>Ottawa Downtown</td>\n",
              "      <td>[False]</td>\n",
              "      <td>[Contractor]</td>\n",
              "    </tr>\n",
              "    <tr>\n",
              "      <th>3</th>\n",
              "      <td>2017-06-23</td>\n",
              "      <td>1tonexcavator</td>\n",
              "      <td>900</td>\n",
              "      <td>23</td>\n",
              "      <td>Ottawa Downtown</td>\n",
              "      <td>[False]</td>\n",
              "      <td>[Individual]</td>\n",
              "    </tr>\n",
              "    <tr>\n",
              "      <th>4</th>\n",
              "      <td>2021-05-10</td>\n",
              "      <td>platecompactor</td>\n",
              "      <td>200</td>\n",
              "      <td>22</td>\n",
              "      <td>Ottawa Downtown</td>\n",
              "      <td>[False]</td>\n",
              "      <td>[Contractor]</td>\n",
              "    </tr>\n",
              "  </tbody>\n",
              "</table>\n",
              "</div>\n",
              "      <button class=\"colab-df-convert\" onclick=\"convertToInteractive('df-4ba44c87-5b75-4600-bad5-38d0769b93c4')\"\n",
              "              title=\"Convert this dataframe to an interactive table.\"\n",
              "              style=\"display:none;\">\n",
              "        \n",
              "  <svg xmlns=\"http://www.w3.org/2000/svg\" height=\"24px\"viewBox=\"0 0 24 24\"\n",
              "       width=\"24px\">\n",
              "    <path d=\"M0 0h24v24H0V0z\" fill=\"none\"/>\n",
              "    <path d=\"M18.56 5.44l.94 2.06.94-2.06 2.06-.94-2.06-.94-.94-2.06-.94 2.06-2.06.94zm-11 1L8.5 8.5l.94-2.06 2.06-.94-2.06-.94L8.5 2.5l-.94 2.06-2.06.94zm10 10l.94 2.06.94-2.06 2.06-.94-2.06-.94-.94-2.06-.94 2.06-2.06.94z\"/><path d=\"M17.41 7.96l-1.37-1.37c-.4-.4-.92-.59-1.43-.59-.52 0-1.04.2-1.43.59L10.3 9.45l-7.72 7.72c-.78.78-.78 2.05 0 2.83L4 21.41c.39.39.9.59 1.41.59.51 0 1.02-.2 1.41-.59l7.78-7.78 2.81-2.81c.8-.78.8-2.07 0-2.86zM5.41 20L4 18.59l7.72-7.72 1.47 1.35L5.41 20z\"/>\n",
              "  </svg>\n",
              "      </button>\n",
              "      \n",
              "  <style>\n",
              "    .colab-df-container {\n",
              "      display:flex;\n",
              "      flex-wrap:wrap;\n",
              "      gap: 12px;\n",
              "    }\n",
              "\n",
              "    .colab-df-convert {\n",
              "      background-color: #E8F0FE;\n",
              "      border: none;\n",
              "      border-radius: 50%;\n",
              "      cursor: pointer;\n",
              "      display: none;\n",
              "      fill: #1967D2;\n",
              "      height: 32px;\n",
              "      padding: 0 0 0 0;\n",
              "      width: 32px;\n",
              "    }\n",
              "\n",
              "    .colab-df-convert:hover {\n",
              "      background-color: #E2EBFA;\n",
              "      box-shadow: 0px 1px 2px rgba(60, 64, 67, 0.3), 0px 1px 3px 1px rgba(60, 64, 67, 0.15);\n",
              "      fill: #174EA6;\n",
              "    }\n",
              "\n",
              "    [theme=dark] .colab-df-convert {\n",
              "      background-color: #3B4455;\n",
              "      fill: #D2E3FC;\n",
              "    }\n",
              "\n",
              "    [theme=dark] .colab-df-convert:hover {\n",
              "      background-color: #434B5C;\n",
              "      box-shadow: 0px 1px 3px 1px rgba(0, 0, 0, 0.15);\n",
              "      filter: drop-shadow(0px 1px 2px rgba(0, 0, 0, 0.3));\n",
              "      fill: #FFFFFF;\n",
              "    }\n",
              "  </style>\n",
              "\n",
              "      <script>\n",
              "        const buttonEl =\n",
              "          document.querySelector('#df-4ba44c87-5b75-4600-bad5-38d0769b93c4 button.colab-df-convert');\n",
              "        buttonEl.style.display =\n",
              "          google.colab.kernel.accessAllowed ? 'block' : 'none';\n",
              "\n",
              "        async function convertToInteractive(key) {\n",
              "          const element = document.querySelector('#df-4ba44c87-5b75-4600-bad5-38d0769b93c4');\n",
              "          const dataTable =\n",
              "            await google.colab.kernel.invokeFunction('convertToInteractive',\n",
              "                                                     [key], {});\n",
              "          if (!dataTable) return;\n",
              "\n",
              "          const docLinkHtml = 'Like what you see? Visit the ' +\n",
              "            '<a target=\"_blank\" href=https://colab.research.google.com/notebooks/data_table.ipynb>data table notebook</a>'\n",
              "            + ' to learn more about interactive tables.';\n",
              "          element.innerHTML = '';\n",
              "          dataTable['output_type'] = 'display_data';\n",
              "          await google.colab.output.renderOutput(dataTable, element);\n",
              "          const docLink = document.createElement('div');\n",
              "          docLink.innerHTML = docLinkHtml;\n",
              "          element.appendChild(docLink);\n",
              "        }\n",
              "      </script>\n",
              "    </div>\n",
              "  </div>\n",
              "  "
            ]
          },
          "metadata": {},
          "execution_count": 169
        }
      ]
    },
    {
      "cell_type": "code",
      "source": [
        "df_rentals.dtypes"
      ],
      "metadata": {
        "colab": {
          "base_uri": "https://localhost:8080/"
        },
        "id": "b6j-xXMFSLnY",
        "outputId": "f72a1668-3977-4886-d56f-cd120226e8b7"
      },
      "execution_count": 134,
      "outputs": [
        {
          "output_type": "execute_result",
          "data": {
            "text/plain": [
              "Date              object\n",
              "Equipment_Type    object\n",
              "Daily_Rate         int64\n",
              "Num_Days           int64\n",
              "Branch            object\n",
              "Damaged           object\n",
              "Customer_Type     object\n",
              "dtype: object"
            ]
          },
          "metadata": {},
          "execution_count": 134
        }
      ]
    },
    {
      "cell_type": "code",
      "source": [
        "df_rentals.sort_values(by = ['Date'], inplace=True, ascending = True)"
      ],
      "metadata": {
        "id": "5L2tAc3wWn72"
      },
      "execution_count": 177,
      "outputs": []
    },
    {
      "cell_type": "code",
      "source": [
        "df_rentals.reset_index(drop=True, inplace=True)"
      ],
      "metadata": {
        "id": "T0-83G3-Vw9z"
      },
      "execution_count": 178,
      "outputs": []
    },
    {
      "cell_type": "code",
      "source": [
        "df_rentals"
      ],
      "metadata": {
        "colab": {
          "base_uri": "https://localhost:8080/",
          "height": 424
        },
        "id": "oqX8rJHGWZ2u",
        "outputId": "41845420-231d-43a8-8663-101d4620a905"
      },
      "execution_count": 179,
      "outputs": [
        {
          "output_type": "execute_result",
          "data": {
            "text/plain": [
              "             Date   Equipment_Type  Daily_Rate  Num_Days       Branch  \\\n",
              "0      2015-01-01        vortexfan          50        10      Toronto   \n",
              "1      2015-01-01      66padroller         700         2       Bolton   \n",
              "2      2015-01-01  10ftscissorlift         200         5     Brossard   \n",
              "3      2015-01-01  10ftscissorlift         200         4   Lethbridge   \n",
              "4      2015-01-01    5tonexcavator        1300         1     Brossard   \n",
              "...           ...              ...         ...       ...          ...   \n",
              "53995  2021-12-30   5000lbforklift         450         3  Mississauga   \n",
              "53996  2021-12-30     impactwrench          40        35       Barrie   \n",
              "53997  2021-12-30   5000lbforklift         450        44    Kitchener   \n",
              "53998  2021-12-30    2tonexcavator         700         2       Barrie   \n",
              "53999  2021-12-30   84smoothroller         850         2  Mississauga   \n",
              "\n",
              "       Damaged Customer_Type  \n",
              "0      [False]  [Contractor]  \n",
              "1      [False]  [Contractor]  \n",
              "2      [False]  [Contractor]  \n",
              "3      [False]  [Contractor]  \n",
              "4      [False]  [Contractor]  \n",
              "...        ...           ...  \n",
              "53995  [False]  [Contractor]  \n",
              "53996  [False]  [Individual]  \n",
              "53997  [False]  [Contractor]  \n",
              "53998  [False]  [Individual]  \n",
              "53999  [False]  [Contractor]  \n",
              "\n",
              "[54000 rows x 7 columns]"
            ],
            "text/html": [
              "\n",
              "  <div id=\"df-94c7b585-3f03-4350-8ba8-9d8941626456\">\n",
              "    <div class=\"colab-df-container\">\n",
              "      <div>\n",
              "<style scoped>\n",
              "    .dataframe tbody tr th:only-of-type {\n",
              "        vertical-align: middle;\n",
              "    }\n",
              "\n",
              "    .dataframe tbody tr th {\n",
              "        vertical-align: top;\n",
              "    }\n",
              "\n",
              "    .dataframe thead th {\n",
              "        text-align: right;\n",
              "    }\n",
              "</style>\n",
              "<table border=\"1\" class=\"dataframe\">\n",
              "  <thead>\n",
              "    <tr style=\"text-align: right;\">\n",
              "      <th></th>\n",
              "      <th>Date</th>\n",
              "      <th>Equipment_Type</th>\n",
              "      <th>Daily_Rate</th>\n",
              "      <th>Num_Days</th>\n",
              "      <th>Branch</th>\n",
              "      <th>Damaged</th>\n",
              "      <th>Customer_Type</th>\n",
              "    </tr>\n",
              "  </thead>\n",
              "  <tbody>\n",
              "    <tr>\n",
              "      <th>0</th>\n",
              "      <td>2015-01-01</td>\n",
              "      <td>vortexfan</td>\n",
              "      <td>50</td>\n",
              "      <td>10</td>\n",
              "      <td>Toronto</td>\n",
              "      <td>[False]</td>\n",
              "      <td>[Contractor]</td>\n",
              "    </tr>\n",
              "    <tr>\n",
              "      <th>1</th>\n",
              "      <td>2015-01-01</td>\n",
              "      <td>66padroller</td>\n",
              "      <td>700</td>\n",
              "      <td>2</td>\n",
              "      <td>Bolton</td>\n",
              "      <td>[False]</td>\n",
              "      <td>[Contractor]</td>\n",
              "    </tr>\n",
              "    <tr>\n",
              "      <th>2</th>\n",
              "      <td>2015-01-01</td>\n",
              "      <td>10ftscissorlift</td>\n",
              "      <td>200</td>\n",
              "      <td>5</td>\n",
              "      <td>Brossard</td>\n",
              "      <td>[False]</td>\n",
              "      <td>[Contractor]</td>\n",
              "    </tr>\n",
              "    <tr>\n",
              "      <th>3</th>\n",
              "      <td>2015-01-01</td>\n",
              "      <td>10ftscissorlift</td>\n",
              "      <td>200</td>\n",
              "      <td>4</td>\n",
              "      <td>Lethbridge</td>\n",
              "      <td>[False]</td>\n",
              "      <td>[Contractor]</td>\n",
              "    </tr>\n",
              "    <tr>\n",
              "      <th>4</th>\n",
              "      <td>2015-01-01</td>\n",
              "      <td>5tonexcavator</td>\n",
              "      <td>1300</td>\n",
              "      <td>1</td>\n",
              "      <td>Brossard</td>\n",
              "      <td>[False]</td>\n",
              "      <td>[Contractor]</td>\n",
              "    </tr>\n",
              "    <tr>\n",
              "      <th>...</th>\n",
              "      <td>...</td>\n",
              "      <td>...</td>\n",
              "      <td>...</td>\n",
              "      <td>...</td>\n",
              "      <td>...</td>\n",
              "      <td>...</td>\n",
              "      <td>...</td>\n",
              "    </tr>\n",
              "    <tr>\n",
              "      <th>53995</th>\n",
              "      <td>2021-12-30</td>\n",
              "      <td>5000lbforklift</td>\n",
              "      <td>450</td>\n",
              "      <td>3</td>\n",
              "      <td>Mississauga</td>\n",
              "      <td>[False]</td>\n",
              "      <td>[Contractor]</td>\n",
              "    </tr>\n",
              "    <tr>\n",
              "      <th>53996</th>\n",
              "      <td>2021-12-30</td>\n",
              "      <td>impactwrench</td>\n",
              "      <td>40</td>\n",
              "      <td>35</td>\n",
              "      <td>Barrie</td>\n",
              "      <td>[False]</td>\n",
              "      <td>[Individual]</td>\n",
              "    </tr>\n",
              "    <tr>\n",
              "      <th>53997</th>\n",
              "      <td>2021-12-30</td>\n",
              "      <td>5000lbforklift</td>\n",
              "      <td>450</td>\n",
              "      <td>44</td>\n",
              "      <td>Kitchener</td>\n",
              "      <td>[False]</td>\n",
              "      <td>[Contractor]</td>\n",
              "    </tr>\n",
              "    <tr>\n",
              "      <th>53998</th>\n",
              "      <td>2021-12-30</td>\n",
              "      <td>2tonexcavator</td>\n",
              "      <td>700</td>\n",
              "      <td>2</td>\n",
              "      <td>Barrie</td>\n",
              "      <td>[False]</td>\n",
              "      <td>[Individual]</td>\n",
              "    </tr>\n",
              "    <tr>\n",
              "      <th>53999</th>\n",
              "      <td>2021-12-30</td>\n",
              "      <td>84smoothroller</td>\n",
              "      <td>850</td>\n",
              "      <td>2</td>\n",
              "      <td>Mississauga</td>\n",
              "      <td>[False]</td>\n",
              "      <td>[Contractor]</td>\n",
              "    </tr>\n",
              "  </tbody>\n",
              "</table>\n",
              "<p>54000 rows × 7 columns</p>\n",
              "</div>\n",
              "      <button class=\"colab-df-convert\" onclick=\"convertToInteractive('df-94c7b585-3f03-4350-8ba8-9d8941626456')\"\n",
              "              title=\"Convert this dataframe to an interactive table.\"\n",
              "              style=\"display:none;\">\n",
              "        \n",
              "  <svg xmlns=\"http://www.w3.org/2000/svg\" height=\"24px\"viewBox=\"0 0 24 24\"\n",
              "       width=\"24px\">\n",
              "    <path d=\"M0 0h24v24H0V0z\" fill=\"none\"/>\n",
              "    <path d=\"M18.56 5.44l.94 2.06.94-2.06 2.06-.94-2.06-.94-.94-2.06-.94 2.06-2.06.94zm-11 1L8.5 8.5l.94-2.06 2.06-.94-2.06-.94L8.5 2.5l-.94 2.06-2.06.94zm10 10l.94 2.06.94-2.06 2.06-.94-2.06-.94-.94-2.06-.94 2.06-2.06.94z\"/><path d=\"M17.41 7.96l-1.37-1.37c-.4-.4-.92-.59-1.43-.59-.52 0-1.04.2-1.43.59L10.3 9.45l-7.72 7.72c-.78.78-.78 2.05 0 2.83L4 21.41c.39.39.9.59 1.41.59.51 0 1.02-.2 1.41-.59l7.78-7.78 2.81-2.81c.8-.78.8-2.07 0-2.86zM5.41 20L4 18.59l7.72-7.72 1.47 1.35L5.41 20z\"/>\n",
              "  </svg>\n",
              "      </button>\n",
              "      \n",
              "  <style>\n",
              "    .colab-df-container {\n",
              "      display:flex;\n",
              "      flex-wrap:wrap;\n",
              "      gap: 12px;\n",
              "    }\n",
              "\n",
              "    .colab-df-convert {\n",
              "      background-color: #E8F0FE;\n",
              "      border: none;\n",
              "      border-radius: 50%;\n",
              "      cursor: pointer;\n",
              "      display: none;\n",
              "      fill: #1967D2;\n",
              "      height: 32px;\n",
              "      padding: 0 0 0 0;\n",
              "      width: 32px;\n",
              "    }\n",
              "\n",
              "    .colab-df-convert:hover {\n",
              "      background-color: #E2EBFA;\n",
              "      box-shadow: 0px 1px 2px rgba(60, 64, 67, 0.3), 0px 1px 3px 1px rgba(60, 64, 67, 0.15);\n",
              "      fill: #174EA6;\n",
              "    }\n",
              "\n",
              "    [theme=dark] .colab-df-convert {\n",
              "      background-color: #3B4455;\n",
              "      fill: #D2E3FC;\n",
              "    }\n",
              "\n",
              "    [theme=dark] .colab-df-convert:hover {\n",
              "      background-color: #434B5C;\n",
              "      box-shadow: 0px 1px 3px 1px rgba(0, 0, 0, 0.15);\n",
              "      filter: drop-shadow(0px 1px 2px rgba(0, 0, 0, 0.3));\n",
              "      fill: #FFFFFF;\n",
              "    }\n",
              "  </style>\n",
              "\n",
              "      <script>\n",
              "        const buttonEl =\n",
              "          document.querySelector('#df-94c7b585-3f03-4350-8ba8-9d8941626456 button.colab-df-convert');\n",
              "        buttonEl.style.display =\n",
              "          google.colab.kernel.accessAllowed ? 'block' : 'none';\n",
              "\n",
              "        async function convertToInteractive(key) {\n",
              "          const element = document.querySelector('#df-94c7b585-3f03-4350-8ba8-9d8941626456');\n",
              "          const dataTable =\n",
              "            await google.colab.kernel.invokeFunction('convertToInteractive',\n",
              "                                                     [key], {});\n",
              "          if (!dataTable) return;\n",
              "\n",
              "          const docLinkHtml = 'Like what you see? Visit the ' +\n",
              "            '<a target=\"_blank\" href=https://colab.research.google.com/notebooks/data_table.ipynb>data table notebook</a>'\n",
              "            + ' to learn more about interactive tables.';\n",
              "          element.innerHTML = '';\n",
              "          dataTable['output_type'] = 'display_data';\n",
              "          await google.colab.output.renderOutput(dataTable, element);\n",
              "          const docLink = document.createElement('div');\n",
              "          docLink.innerHTML = docLinkHtml;\n",
              "          element.appendChild(docLink);\n",
              "        }\n",
              "      </script>\n",
              "    </div>\n",
              "  </div>\n",
              "  "
            ]
          },
          "metadata": {},
          "execution_count": 179
        }
      ]
    },
    {
      "cell_type": "code",
      "source": [
        "df_rentals.describe()"
      ],
      "metadata": {
        "colab": {
          "base_uri": "https://localhost:8080/",
          "height": 300
        },
        "id": "_opdewelWjMe",
        "outputId": "4513fa43-d60f-44a4-8faa-d63cc231d65e"
      },
      "execution_count": 180,
      "outputs": [
        {
          "output_type": "execute_result",
          "data": {
            "text/plain": [
              "         Daily_Rate      Num_Days\n",
              "count  54000.000000  54000.000000\n",
              "mean     233.528056     11.944481\n",
              "std      305.958813     14.101114\n",
              "min       15.000000      1.000000\n",
              "25%       30.000000      2.000000\n",
              "50%       60.000000      5.000000\n",
              "75%      400.000000     18.000000\n",
              "max     1300.000000     50.000000"
            ],
            "text/html": [
              "\n",
              "  <div id=\"df-954abf81-d9ee-46fd-8062-f64599d21645\">\n",
              "    <div class=\"colab-df-container\">\n",
              "      <div>\n",
              "<style scoped>\n",
              "    .dataframe tbody tr th:only-of-type {\n",
              "        vertical-align: middle;\n",
              "    }\n",
              "\n",
              "    .dataframe tbody tr th {\n",
              "        vertical-align: top;\n",
              "    }\n",
              "\n",
              "    .dataframe thead th {\n",
              "        text-align: right;\n",
              "    }\n",
              "</style>\n",
              "<table border=\"1\" class=\"dataframe\">\n",
              "  <thead>\n",
              "    <tr style=\"text-align: right;\">\n",
              "      <th></th>\n",
              "      <th>Daily_Rate</th>\n",
              "      <th>Num_Days</th>\n",
              "    </tr>\n",
              "  </thead>\n",
              "  <tbody>\n",
              "    <tr>\n",
              "      <th>count</th>\n",
              "      <td>54000.000000</td>\n",
              "      <td>54000.000000</td>\n",
              "    </tr>\n",
              "    <tr>\n",
              "      <th>mean</th>\n",
              "      <td>233.528056</td>\n",
              "      <td>11.944481</td>\n",
              "    </tr>\n",
              "    <tr>\n",
              "      <th>std</th>\n",
              "      <td>305.958813</td>\n",
              "      <td>14.101114</td>\n",
              "    </tr>\n",
              "    <tr>\n",
              "      <th>min</th>\n",
              "      <td>15.000000</td>\n",
              "      <td>1.000000</td>\n",
              "    </tr>\n",
              "    <tr>\n",
              "      <th>25%</th>\n",
              "      <td>30.000000</td>\n",
              "      <td>2.000000</td>\n",
              "    </tr>\n",
              "    <tr>\n",
              "      <th>50%</th>\n",
              "      <td>60.000000</td>\n",
              "      <td>5.000000</td>\n",
              "    </tr>\n",
              "    <tr>\n",
              "      <th>75%</th>\n",
              "      <td>400.000000</td>\n",
              "      <td>18.000000</td>\n",
              "    </tr>\n",
              "    <tr>\n",
              "      <th>max</th>\n",
              "      <td>1300.000000</td>\n",
              "      <td>50.000000</td>\n",
              "    </tr>\n",
              "  </tbody>\n",
              "</table>\n",
              "</div>\n",
              "      <button class=\"colab-df-convert\" onclick=\"convertToInteractive('df-954abf81-d9ee-46fd-8062-f64599d21645')\"\n",
              "              title=\"Convert this dataframe to an interactive table.\"\n",
              "              style=\"display:none;\">\n",
              "        \n",
              "  <svg xmlns=\"http://www.w3.org/2000/svg\" height=\"24px\"viewBox=\"0 0 24 24\"\n",
              "       width=\"24px\">\n",
              "    <path d=\"M0 0h24v24H0V0z\" fill=\"none\"/>\n",
              "    <path d=\"M18.56 5.44l.94 2.06.94-2.06 2.06-.94-2.06-.94-.94-2.06-.94 2.06-2.06.94zm-11 1L8.5 8.5l.94-2.06 2.06-.94-2.06-.94L8.5 2.5l-.94 2.06-2.06.94zm10 10l.94 2.06.94-2.06 2.06-.94-2.06-.94-.94-2.06-.94 2.06-2.06.94z\"/><path d=\"M17.41 7.96l-1.37-1.37c-.4-.4-.92-.59-1.43-.59-.52 0-1.04.2-1.43.59L10.3 9.45l-7.72 7.72c-.78.78-.78 2.05 0 2.83L4 21.41c.39.39.9.59 1.41.59.51 0 1.02-.2 1.41-.59l7.78-7.78 2.81-2.81c.8-.78.8-2.07 0-2.86zM5.41 20L4 18.59l7.72-7.72 1.47 1.35L5.41 20z\"/>\n",
              "  </svg>\n",
              "      </button>\n",
              "      \n",
              "  <style>\n",
              "    .colab-df-container {\n",
              "      display:flex;\n",
              "      flex-wrap:wrap;\n",
              "      gap: 12px;\n",
              "    }\n",
              "\n",
              "    .colab-df-convert {\n",
              "      background-color: #E8F0FE;\n",
              "      border: none;\n",
              "      border-radius: 50%;\n",
              "      cursor: pointer;\n",
              "      display: none;\n",
              "      fill: #1967D2;\n",
              "      height: 32px;\n",
              "      padding: 0 0 0 0;\n",
              "      width: 32px;\n",
              "    }\n",
              "\n",
              "    .colab-df-convert:hover {\n",
              "      background-color: #E2EBFA;\n",
              "      box-shadow: 0px 1px 2px rgba(60, 64, 67, 0.3), 0px 1px 3px 1px rgba(60, 64, 67, 0.15);\n",
              "      fill: #174EA6;\n",
              "    }\n",
              "\n",
              "    [theme=dark] .colab-df-convert {\n",
              "      background-color: #3B4455;\n",
              "      fill: #D2E3FC;\n",
              "    }\n",
              "\n",
              "    [theme=dark] .colab-df-convert:hover {\n",
              "      background-color: #434B5C;\n",
              "      box-shadow: 0px 1px 3px 1px rgba(0, 0, 0, 0.15);\n",
              "      filter: drop-shadow(0px 1px 2px rgba(0, 0, 0, 0.3));\n",
              "      fill: #FFFFFF;\n",
              "    }\n",
              "  </style>\n",
              "\n",
              "      <script>\n",
              "        const buttonEl =\n",
              "          document.querySelector('#df-954abf81-d9ee-46fd-8062-f64599d21645 button.colab-df-convert');\n",
              "        buttonEl.style.display =\n",
              "          google.colab.kernel.accessAllowed ? 'block' : 'none';\n",
              "\n",
              "        async function convertToInteractive(key) {\n",
              "          const element = document.querySelector('#df-954abf81-d9ee-46fd-8062-f64599d21645');\n",
              "          const dataTable =\n",
              "            await google.colab.kernel.invokeFunction('convertToInteractive',\n",
              "                                                     [key], {});\n",
              "          if (!dataTable) return;\n",
              "\n",
              "          const docLinkHtml = 'Like what you see? Visit the ' +\n",
              "            '<a target=\"_blank\" href=https://colab.research.google.com/notebooks/data_table.ipynb>data table notebook</a>'\n",
              "            + ' to learn more about interactive tables.';\n",
              "          element.innerHTML = '';\n",
              "          dataTable['output_type'] = 'display_data';\n",
              "          await google.colab.output.renderOutput(dataTable, element);\n",
              "          const docLink = document.createElement('div');\n",
              "          docLink.innerHTML = docLinkHtml;\n",
              "          element.appendChild(docLink);\n",
              "        }\n",
              "      </script>\n",
              "    </div>\n",
              "  </div>\n",
              "  "
            ]
          },
          "metadata": {},
          "execution_count": 180
        }
      ]
    },
    {
      "cell_type": "code",
      "source": [
        "df_rentals.info()"
      ],
      "metadata": {
        "colab": {
          "base_uri": "https://localhost:8080/"
        },
        "id": "EdfWOv7LbxRw",
        "outputId": "35f84778-b8e6-47fd-c906-dd15fa87929e"
      },
      "execution_count": 139,
      "outputs": [
        {
          "output_type": "stream",
          "name": "stdout",
          "text": [
            "<class 'pandas.core.frame.DataFrame'>\n",
            "RangeIndex: 49000 entries, 0 to 48999\n",
            "Data columns (total 7 columns):\n",
            " #   Column          Non-Null Count  Dtype \n",
            "---  ------          --------------  ----- \n",
            " 0   Date            49000 non-null  object\n",
            " 1   Equipment_Type  49000 non-null  object\n",
            " 2   Daily_Rate      49000 non-null  int64 \n",
            " 3   Num_Days        49000 non-null  int64 \n",
            " 4   Branch          49000 non-null  object\n",
            " 5   Damaged         49000 non-null  object\n",
            " 6   Customer_Type   49000 non-null  object\n",
            "dtypes: int64(2), object(5)\n",
            "memory usage: 2.6+ MB\n"
          ]
        }
      ]
    },
    {
      "cell_type": "code",
      "source": [
        "df_rentals.to_csv('/content/EquipmentRentalData.csv')"
      ],
      "metadata": {
        "id": "_M0fpPkNb3JD"
      },
      "execution_count": 181,
      "outputs": []
    },
    {
      "cell_type": "markdown",
      "source": [
        "The created dataset was then analyzed and visualized using Tableau public. The visualization can be found at:\n",
        " https://public.tableau.com/shared/949W555GP?:display_count=n&:origin=viz_share_link"
      ],
      "metadata": {
        "id": "BL9CbeKcPxMd"
      }
    },
    {
      "cell_type": "code",
      "source": [
        ""
      ],
      "metadata": {
        "id": "3JjK4SNEck3P"
      },
      "execution_count": null,
      "outputs": []
    }
  ]
}